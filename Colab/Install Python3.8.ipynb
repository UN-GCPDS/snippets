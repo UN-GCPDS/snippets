{
 "cells": [
  {
   "cell_type": "markdown",
   "id": "89e41a43-413c-4b81-aae6-ee15d4875eb5",
   "metadata": {},
   "source": [
    "# Install Python3.8\n",
    "\n",
    "Since Colab team refuses to keep update the kernels versions, is possible to use the Debian background to install Anaconda3 and their binaries, it’s something."
   ]
  },
  {
   "cell_type": "code",
   "execution_count": null,
   "id": "dab5dc74-50c3-4f9a-8267-019479800954",
   "metadata": {},
   "outputs": [],
   "source": [
    "# install Anaconda3\n",
    "!wget -qO ac.sh https://repo.anaconda.com/archive/Anaconda3-2021.05-Linux-x86_64.sh\n",
    "!bash ./ac.sh -b\n",
    "\n",
    "# a fake google.colab library\n",
    "!ln -s /usr/local/lib/python3.7/dist-packages/google /root/anaconda3/lib/python3.8/site-packages/google\n",
    "\n",
    "# start jupyterlab, which now has Python3 = 3.8\n",
    "!nohup /root/anaconda3/bin/jupyter-lab --ip=0.0.0.0&\n",
    "\n",
    "# add the new pip and conda path to your jupyter notebook environment\n",
    "import os\n",
    "os.environ['PATH'] = '/root/anaconda3/bin:' + os.environ['PATH']"
   ]
  },
  {
   "cell_type": "code",
   "execution_count": null,
   "id": "11bd3006-dfb6-4cca-b021-238bc749dbe5",
   "metadata": {},
   "outputs": [],
   "source": [
    "python --version"
   ]
  }
 ],
 "metadata": {
  "kernelspec": {
   "display_name": "Python 3",
   "language": "python",
   "name": "python3"
  },
  "language_info": {
   "codemirror_mode": {
    "name": "ipython",
    "version": 3
   },
   "file_extension": ".py",
   "mimetype": "text/x-python",
   "name": "python",
   "nbconvert_exporter": "python",
   "pygments_lexer": "ipython3",
   "version": "3.9.6"
  }
 },
 "nbformat": 4,
 "nbformat_minor": 5
}
